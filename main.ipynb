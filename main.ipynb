{
  "cells": [
    {
      "cell_type": "code",
      "execution_count": 1,
      "metadata": {
        "colab": {
          "base_uri": "https://localhost:8080/"
        },
        "id": "h7BcK38fwak6",
        "outputId": "012fc753-244b-46f6-87fb-5c382cbcf4e1"
      },
      "outputs": [
        {
          "output_type": "stream",
          "name": "stdout",
          "text": [
            "Drive already mounted at /content/drive; to attempt to forcibly remount, call drive.mount(\"/content/drive\", force_remount=True).\n"
          ]
        }
      ],
      "source": [
        "from google.colab import drive\n",
        "drive.mount('/content/drive')\n",
        "!apt-get install openjdk-8-jdk-headless -qq > /dev/null\n",
        "!tar xf /content/drive/MyDrive/spark-3.0.3-bin-hadoop2.7.tgz\n",
        "#!tar xf /content/drive/Shareddrives/DA231-2022-public/spark-3.0.3-bin-hadoop2.7.tgz\n",
        "\n",
        "!pip install -q findspark\n",
        "import os\n",
        "os.environ[\"JAVA_HOME\"] = \"/usr/lib/jvm/java-8-openjdk-amd64\"\n",
        "os.environ[\"SPARK_HOME\"] = \"/content/spark-3.0.3-bin-hadoop2.7\""
      ]
    },
    {
      "cell_type": "code",
      "execution_count": 2,
      "metadata": {
        "colab": {
          "base_uri": "https://localhost:8080/",
          "height": 221
        },
        "id": "R9mzyssMN6hB",
        "outputId": "18af5990-f4cc-4aee-f9cc-03ce49fda318"
      },
      "outputs": [
        {
          "output_type": "execute_result",
          "data": {
            "text/plain": [
              "<pyspark.sql.session.SparkSession at 0x7fc820f9b880>"
            ],
            "text/html": [
              "\n",
              "            <div>\n",
              "                <p><b>SparkSession - in-memory</b></p>\n",
              "                \n",
              "        <div>\n",
              "            <p><b>SparkContext</b></p>\n",
              "\n",
              "            <p><a href=\"http://9e6c2eaa279b:4050\">Spark UI</a></p>\n",
              "\n",
              "            <dl>\n",
              "              <dt>Version</dt>\n",
              "                <dd><code>v3.0.3</code></dd>\n",
              "              <dt>Master</dt>\n",
              "                <dd><code>local</code></dd>\n",
              "              <dt>AppName</dt>\n",
              "                <dd><code>Colab</code></dd>\n",
              "            </dl>\n",
              "        </div>\n",
              "        \n",
              "            </div>\n",
              "        "
            ]
          },
          "metadata": {},
          "execution_count": 2
        }
      ],
      "source": [
        "import findspark\n",
        "\n",
        "findspark.init()\n",
        "findspark.find()\n",
        "\n",
        "from pyspark import SparkContext, SparkConf\n",
        "from pyspark.sql import SparkSession\n",
        "\n",
        "spark = SparkSession.builder\\\n",
        "         .master(\"local\")\\\n",
        "         .appName(\"Colab\")\\\n",
        "         .config('spark.ui.port', '4050')\\\n",
        "         .getOrCreate()\n",
        "spark"
      ]
    },
    {
      "cell_type": "markdown",
      "metadata": {
        "id": "QlETjf1QMVPV"
      },
      "source": [
        "**T20 Cricket predictions and match analytics [2008-2020]**"
      ]
    },
    {
      "cell_type": "markdown",
      "metadata": {
        "id": "gKlG72aoOllx"
      },
      "source": [
        "Import libraries"
      ]
    },
    {
      "cell_type": "code",
      "execution_count": 3,
      "metadata": {
        "id": "4MVu4TbsXRot"
      },
      "outputs": [],
      "source": [
        "from pyspark.sql import SparkSession\n",
        "from pyspark.sql.functions import percent_rank\n",
        "from pyspark.sql import Window\n",
        "from pyspark.sql.types import IntegerType\n",
        "from pyspark.sql.functions import countDistinct\n",
        "from pyspark.sql.functions import col\n",
        "\n",
        "from pyspark.ml.feature import VectorAssembler\n",
        "from pyspark.ml.regression import LinearRegression\n",
        "from pyspark.ml.tuning import TrainValidationSplit\n",
        "from pyspark.ml.evaluation import RegressionEvaluator\n",
        "from pyspark.sql.functions import isnan, when, count, col\n",
        "\n",
        "import numpy as np\n",
        "import seaborn as sns\n",
        "import matplotlib.pyplot as plt\n",
        "from pyspark.sql.functions import *"
      ]
    },
    {
      "cell_type": "markdown",
      "metadata": {
        "id": "fstwdgtAOoyT"
      },
      "source": [
        "Import Dataset"
      ]
    },
    {
      "cell_type": "code",
      "execution_count": 4,
      "metadata": {
        "id": "gvmwZGeHm2uq"
      },
      "outputs": [],
      "source": [
        "balldf = spark.read.csv('/content/drive/Shareddrives/DIR_DE_Scale/IPL Ball-by-Ball 2008-2020.csv',header=True)\n",
        "matchdf = spark.read.csv('/content/drive/Shareddrives/DIR_DE_Scale/IPL Matches 2008-2020.csv',header=True)"
      ]
    },
    {
      "cell_type": "markdown",
      "metadata": {
        "id": "HLAFASWsOgr3"
      },
      "source": [
        "Data Preparation and Cleaning"
      ]
    },
    {
      "cell_type": "code",
      "execution_count": 5,
      "metadata": {
        "id": "-C7z29xFoWQt"
      },
      "outputs": [],
      "source": [
        "balldf = balldf.withColumn(\"id\", balldf[\"id\"].cast(IntegerType()))\n",
        "balldf = balldf.withColumn(\"is_wicket\", balldf[\"is_wicket\"].cast(IntegerType()))\n",
        "balldf = balldf.withColumn(\"batsman_runs\", balldf[\"batsman_runs\"].cast(IntegerType()))\n",
        "balldf = balldf.withColumn(\"extra_runs\", balldf[\"extra_runs\"].cast(IntegerType()))\n",
        "balldf = balldf.withColumn(\"total_runs\", balldf[\"total_runs\"].cast(IntegerType()))\n",
        "balldf = balldf.withColumn(\"ball\", balldf[\"ball\"].cast(IntegerType()))"
      ]
    },
    {
      "cell_type": "code",
      "execution_count": 6,
      "metadata": {
        "colab": {
          "base_uri": "https://localhost:8080/"
        },
        "id": "kEgzcgoWwmVH",
        "outputId": "b63d68b7-a566-45a5-bb39-596afbdd71ee"
      },
      "outputs": [
        {
          "output_type": "stream",
          "name": "stdout",
          "text": [
            "-RECORD 0---------------\n",
            " id               | 0   \n",
            " inning           | 0   \n",
            " over             | 0   \n",
            " ball             | 0   \n",
            " batsman          | 0   \n",
            " non_striker      | 0   \n",
            " bowler           | 0   \n",
            " batsman_runs     | 0   \n",
            " extra_runs       | 0   \n",
            " total_runs       | 0   \n",
            " non_boundary     | 0   \n",
            " is_wicket        | 0   \n",
            " dismissal_kind   | 0   \n",
            " player_dismissed | 0   \n",
            " fielder          | 0   \n",
            " extras_type      | 0   \n",
            " batting_team     | 0   \n",
            " bowling_team     | 0   \n",
            "\n"
          ]
        }
      ],
      "source": [
        "balldf.select([count(when(isnan(c) | col(c).isNull(), c)).alias(c) for c in balldf.columns]).show(vertical=True)"
      ]
    },
    {
      "cell_type": "markdown",
      "source": [
        "# Match Analytics for Batsman\n"
      ],
      "metadata": {
        "id": "638uacpGHpOq"
      }
    },
    {
      "cell_type": "markdown",
      "source": [
        "Which players have most sixes in IPL?"
      ],
      "metadata": {
        "id": "fPWrYukrH6t1"
      }
    },
    {
      "cell_type": "code",
      "source": [
        "## filter run scores in \"6\" and create count for each batsman\n",
        "batgroup = balldf.groupby('batsman')\n",
        "\n",
        "sixes=balldf.filter(balldf.batsman_runs=='6')\n",
        "sixes_df=sixes.groupBy('batsman').count().select('*').withColumnRenamed('count',\"Sixes\")\n",
        "sixes_df.sort('Sixes',ascending=False).show(10)\n",
        "\n",
        "top_10 = sixes_df.toPandas()\n",
        "top_10.sort_values(by='Sixes',ascending=False,inplace=True)\n",
        "temp = top_10.head(10)\n",
        "\n",
        "c1 = sns.barplot(data = temp,y=\"batsman\", x=\"Sixes\",palette = 'mako')\n",
        "plt.ylabel('Batsman',fontsize=12)\n",
        "plt.xlabel('No of Sixes',fontsize=12)\n",
        "plt.title('Top Six Hitters of all time',fontsize=15)\n",
        "plt.show()"
      ],
      "metadata": {
        "colab": {
          "base_uri": "https://localhost:8080/",
          "height": 586
        },
        "id": "_-69qE6KH4MO",
        "outputId": "4c70e130-0c82-4f91-dcf3-27600ac828b3"
      },
      "execution_count": 7,
      "outputs": [
        {
          "output_type": "stream",
          "name": "stdout",
          "text": [
            "+--------------+-----+\n",
            "|       batsman|Sixes|\n",
            "+--------------+-----+\n",
            "|      CH Gayle|  349|\n",
            "|AB de Villiers|  235|\n",
            "|      MS Dhoni|  216|\n",
            "|     RG Sharma|  214|\n",
            "|       V Kohli|  202|\n",
            "|    KA Pollard|  198|\n",
            "|     DA Warner|  195|\n",
            "|      SK Raina|  194|\n",
            "|     SR Watson|  190|\n",
            "|    RV Uthappa|  163|\n",
            "+--------------+-----+\n",
            "only showing top 10 rows\n",
            "\n"
          ]
        },
        {
          "output_type": "display_data",
          "data": {
            "text/plain": [
              "<Figure size 432x288 with 1 Axes>"
            ],
            "image/png": "[encoded data removed]"
          },
          "metadata": {
            "needs_background": "light"
          }
        }
      ]
    },
    {
      "cell_type": "markdown",
      "source": [
        "Which players have most runs in boundaries?"
      ],
      "metadata": {
        "id": "hYRyFaxBIH3T"
      }
    },
    {
      "cell_type": "code",
      "source": [
        "four_six=balldf.filter(balldf.batsman_runs.isin(4,6))\n",
        "four_six=four_six.groupBy('batsman').count().select('*').withColumnRenamed('count',\"Runs in boundaries\")\n",
        "four_six.sort('Runs in boundaries',ascending=False).show(10)\n",
        "\n",
        "top_10 = four_six.toPandas()\n",
        "top_10.sort_values(by='Runs in boundaries',ascending=False,inplace=True)\n",
        "temp = top_10.head(10)\n",
        "\n",
        "c1 = sns.barplot(data = temp,y=\"batsman\", x=\"Runs in boundaries\",palette = 'mako')\n",
        "plt.ylabel('Batsman',fontsize=12)\n",
        "plt.xlabel('No of Boundaries',fontsize=12)\n",
        "plt.title(' Top Boundaries Hitters of all time',fontsize=15)\n",
        "plt.show()"
      ],
      "metadata": {
        "colab": {
          "base_uri": "https://localhost:8080/",
          "height": 586
        },
        "id": "syfa_m4hIId2",
        "outputId": "cbfd694f-9605-491f-b4c8-6c1ec9814e8f"
      },
      "execution_count": 8,
      "outputs": [
        {
          "output_type": "stream",
          "name": "stdout",
          "text": [
            "+--------------+------------------+\n",
            "|       batsman|Runs in boundaries|\n",
            "+--------------+------------------+\n",
            "|      CH Gayle|               733|\n",
            "|       V Kohli|               706|\n",
            "|     DA Warner|               705|\n",
            "|      S Dhawan|               700|\n",
            "|      SK Raina|               687|\n",
            "|     RG Sharma|               672|\n",
            "|AB de Villiers|               625|\n",
            "|    RV Uthappa|               617|\n",
            "|     SR Watson|               566|\n",
            "|     G Gambhir|               551|\n",
            "+--------------+------------------+\n",
            "only showing top 10 rows\n",
            "\n"
          ]
        },
        {
          "output_type": "display_data",
          "data": {
            "text/plain": [
              "<Figure size 432x288 with 1 Axes>"
            ],
            "image/png": "[encoded data removed]"
          },
          "metadata": {
            "needs_background": "light"
          }
        }
      ]
    },
    {
      "cell_type": "markdown",
      "source": [
        "Who are the highest run getters in ipl?"
      ],
      "metadata": {
        "id": "RgABR6NsISR9"
      }
    },
    {
      "cell_type": "code",
      "source": [
        "total_runs=balldf.groupBy('batsman').sum('batsman_runs')\n",
        "total_runs=total_runs.select('*').withColumnRenamed('sum(batsman_runs)',\"batsman_runs\")\n",
        "total_runs.sort('batsman_runs',ascending=False).show(10)\n",
        "\n",
        "top_10 = total_runs.toPandas()\n",
        "top_10.sort_values(by='batsman_runs',ascending=False,inplace=True)\n",
        "temp = top_10.head(10)\n",
        "\n",
        "c1 = sns.barplot(data = temp,y=\"batsman\", x=\"batsman_runs\",palette = 'mako')\n",
        "plt.ylabel('Batsman',fontsize=12)\n",
        "plt.xlabel('Total Runs',fontsize=12)\n",
        "plt.title(' Top total run scorer of all time',fontsize=15)\n",
        "plt.show()"
      ],
      "metadata": {
        "colab": {
          "base_uri": "https://localhost:8080/",
          "height": 586
        },
        "id": "sWV97ShbIRfI",
        "outputId": "e9cfa877-a787-4b98-8d25-6eb3a042b1b2"
      },
      "execution_count": 9,
      "outputs": [
        {
          "output_type": "stream",
          "name": "stdout",
          "text": [
            "+--------------+------------+\n",
            "|       batsman|batsman_runs|\n",
            "+--------------+------------+\n",
            "|       V Kohli|        5878|\n",
            "|      SK Raina|        5368|\n",
            "|     DA Warner|        5254|\n",
            "|     RG Sharma|        5230|\n",
            "|      S Dhawan|        5197|\n",
            "|AB de Villiers|        4849|\n",
            "|      CH Gayle|        4772|\n",
            "|      MS Dhoni|        4632|\n",
            "|    RV Uthappa|        4607|\n",
            "|     G Gambhir|        4217|\n",
            "+--------------+------------+\n",
            "only showing top 10 rows\n",
            "\n"
          ]
        },
        {
          "output_type": "display_data",
          "data": {
            "text/plain": [
              "<Figure size 432x288 with 1 Axes>"
            ],
            "image/png": "[encoded data removed]"
          },
          "metadata": {
            "needs_background": "light"
          }
        }
      ]
    },
    {
      "cell_type": "markdown",
      "source": [
        "Which players have best strike rate in death overs?"
      ],
      "metadata": {
        "id": "xKOnJE2CIcim"
      }
    },
    {
      "cell_type": "code",
      "source": [
        "death=balldf[ (balldf['over'].between(15,19)) ]#filtering out wides and no balls, and taking  only powerplay overs(1-6) \n",
        "total_runs=death.groupBy('batsman').sum('batsman_runs')\n",
        "runs_1=total_runs.select('*').withColumnRenamed('sum(batsman_runs)',\"batsman_runs\")\n",
        "balls_1=death.groupby('batsman').count()#finding out total balls faced by each batsman\n",
        "\n",
        "death_over=runs_1.join(balls_1,on='batsman')\n",
        "result_12=death_over.withColumn(\"Strike rate in death\", col(\"batsman_runs\")*100/col(\"count\")).sort('Strike rate in death',ascending=False)#Dividing the two columns and getting the strike rate the hard way.\n",
        "death_runs=result_12[result_12['batsman_runs'] > 200]#players who have more than 200 runs in deaths\n",
        "death_runs.select('batsman','Strike rate in death').show()\n",
        "\n",
        "top_10 = death_runs.toPandas()\n",
        "top_10.sort_values(by='Strike rate in death',ascending=False,inplace=True)\n",
        "temp = top_10.head(10)\n",
        "\n",
        "c1 = sns.barplot(data = temp,y=\"batsman\", x=\"Strike rate in death\",palette = 'mako')\n",
        "plt.ylabel('Batsman',fontsize=12)\n",
        "plt.xlabel('Strike rate ',fontsize=12)\n",
        "plt.title(' Best Strike rate in death overs of all time',fontsize=15)\n",
        "plt.show()"
      ],
      "metadata": {
        "colab": {
          "base_uri": "https://localhost:8080/",
          "height": 764
        },
        "id": "8GXcsvDqIgAQ",
        "outputId": "241caac4-6ed6-4394-b5a7-f6ebfe8faa21"
      },
      "execution_count": 10,
      "outputs": [
        {
          "output_type": "stream",
          "name": "stdout",
          "text": [
            "+--------------+--------------------+\n",
            "|       batsman|Strike rate in death|\n",
            "+--------------+--------------------+\n",
            "|AB de Villiers|  215.84415584415584|\n",
            "|       RR Pant|  207.72058823529412|\n",
            "|    AD Russell|  195.12761020881672|\n",
            "|      CH Gayle|  193.05555555555554|\n",
            "|    MEK Hussey|   189.1304347826087|\n",
            "|        N Rana|   188.9763779527559|\n",
            "|     DA Warner|  184.94983277591973|\n",
            "|     SV Samson|  184.91379310344828|\n",
            "|       V Kohli|  182.53968253968253|\n",
            "|      CL White|  182.41206030150755|\n",
            "|     SR Watson|   180.4780876494024|\n",
            "|     DA Miller|  176.74418604651163|\n",
            "|     RG Sharma|  176.16209773539927|\n",
            "|       KK Nair|  175.48387096774192|\n",
            "|     DJ Hussey|   175.2136752136752|\n",
            "|      KL Rahul|  174.62686567164178|\n",
            "|  F du Plessis|  173.29842931937173|\n",
            "|     GJ Bailey|  172.10526315789474|\n",
            "|   BCJ Cutting|  171.42857142857142|\n",
            "|     JH Kallis|  170.56277056277057|\n",
            "+--------------+--------------------+\n",
            "only showing top 20 rows\n",
            "\n"
          ]
        },
        {
          "output_type": "display_data",
          "data": {
            "text/plain": [
              "<Figure size 432x288 with 1 Axes>"
            ],
            "image/png": "[encoded data removed]"
          },
          "metadata": {
            "needs_background": "light"
          }
        }
      ]
    },
    {
      "cell_type": "markdown",
      "source": [
        "# Match Analytics for Bowler"
      ],
      "metadata": {
        "id": "-HJa74muKTfu"
      }
    },
    {
      "cell_type": "markdown",
      "source": [
        "Max Runs Conceived per Over"
      ],
      "metadata": {
        "id": "lp4USS46K2bR"
      }
    },
    {
      "cell_type": "code",
      "source": [
        "def barplot(ycol, xcol, ylabel, xlabel, title, temp):\n",
        "  c1 = sns.barplot(data = temp, y = ycol, x = xcol, palette = 'mako')\n",
        "  plt.ylabel(ylabel, fontsize=12)\n",
        "  plt.xlabel(xlabel, fontsize=12)\n",
        "  plt.title(title, fontsize=15)\n",
        "  plt.show()"
      ],
      "metadata": {
        "id": "sF3CkNzDLSDE"
      },
      "execution_count": 11,
      "outputs": []
    },
    {
      "cell_type": "code",
      "source": [
        "mRunsOverdf = balldf.groupby(['id','bowler','over']).agg(sum('total_runs').alias(\"Runs\")).sort('Runs',ascending=False)#.show()\n",
        "mRunsOverdf.show(10)\n",
        "\n",
        "top_wick = mRunsOverdf.toPandas()\n",
        "tempdata = top_wick.head(10)\n",
        "barplot(ycol=\"bowler\", xcol=\"Runs\", ylabel=\"Bowler\", xlabel=\"Runs\", title=\"Expensive Overs in IPL\", temp=tempdata)"
      ],
      "metadata": {
        "colab": {
          "base_uri": "https://localhost:8080/",
          "height": 586
        },
        "id": "sB5zsNjyLB1M",
        "outputId": "57a30d05-f7f8-4231-c5a2-7e2d779290d5"
      },
      "execution_count": 12,
      "outputs": [
        {
          "output_type": "stream",
          "name": "stdout",
          "text": [
            "+-------+---------------+----+----+\n",
            "|     id|         bowler|over|Runs|\n",
            "+-------+---------------+----+----+\n",
            "| 501247| P Parameswaran|   2|  37|\n",
            "| 419139|      RS Bopara|  12|  33|\n",
            "| 734047|        P Awana|   5|  33|\n",
            "| 548327|       R Sharma|  12|  31|\n",
            "|1216493|      CJ Jordan|  19|  30|\n",
            "| 980987|      S Kaushik|  18|  30|\n",
            "|1216496|        L Ngidi|  19|  30|\n",
            "| 501260|JJ van der Wath|  14|  30|\n",
            "| 335988|      A Symonds|  12|  30|\n",
            "|1082592|       AB Dinda|  19|  30|\n",
            "+-------+---------------+----+----+\n",
            "only showing top 10 rows\n",
            "\n"
          ]
        },
        {
          "output_type": "display_data",
          "data": {
            "text/plain": [
              "<Figure size 432x288 with 1 Axes>"
            ],
            "image/png": "[encoded data removed]"
          },
          "metadata": {
            "needs_background": "light"
          }
        }
      ]
    },
    {
      "cell_type": "markdown",
      "source": [
        "**Which player has conceded least number of runs when bowled all 4 overs?**"
      ],
      "metadata": {
        "id": "iSo68Uq_LJ05"
      }
    },
    {
      "cell_type": "code",
      "source": [
        "lst_runs=balldf.groupby(['id','bowler']).count()\n",
        "extra=balldf.filter(~balldf.extras_type.isin('legbyes','byes'))\n",
        "runs_con=extra.groupby(['id','bowler']).agg(sum('total_runs').alias(\"Runs conceded in a single match\"))\n",
        "joinsss=lst_runs.join(runs_con,on=['bowler','id'])\n",
        "\n",
        "lstRunsdf = joinsss[joinsss['count'] >= 24].sort('Runs conceded in a single match',ascending=True)\n",
        "lstRunsdf.show(10)\n",
        "joinsspd = lstRunsdf.toPandas()\n",
        "tempdata = joinsspd.head(10)\n",
        "barplot(ycol=\"bowler\", xcol=\"Runs conceded in a single match\", ylabel=\"Bowler\", xlabel=\"Least Runs in Match\", title=\" Bowlers with least runs in a match\", temp=tempdata)"
      ],
      "metadata": {
        "colab": {
          "base_uri": "https://localhost:8080/",
          "height": 586
        },
        "id": "Ey0f04QzLILR",
        "outputId": "aedd1ebc-a551-4193-abbd-89be080667d2"
      },
      "execution_count": 15,
      "outputs": [
        {
          "output_type": "stream",
          "name": "stdout",
          "text": [
            "+--------------+-------+-----+-------------------------------+\n",
            "|        bowler|     id|count|Runs conceded in a single match|\n",
            "+--------------+-------+-----+-------------------------------+\n",
            "|    FH Edwards| 392184|   24|                              6|\n",
            "|       A Nehra| 392226|   24|                              6|\n",
            "|     YS Chahal|1175356|   24|                              6|\n",
            "|   Rashid Khan|1216524|   24|                              7|\n",
            "|      R Sharma| 501241|   24|                              7|\n",
            "|   LH Ferguson|1082624|   25|                              7|\n",
            "|    MG Johnson| 598055|   24|                              8|\n",
            "| BW Hilfenhaus| 548361|   24|                              8|\n",
            "|Mohammed Siraj|1216494|   24|                              8|\n",
            "|      DR Smith| 981001|   25|                              8|\n",
            "+--------------+-------+-----+-------------------------------+\n",
            "only showing top 10 rows\n",
            "\n"
          ]
        },
        {
          "output_type": "display_data",
          "data": {
            "text/plain": [
              "<Figure size 432x288 with 1 Axes>"
            ],
            "image/png": "[encoded data removed]"
          },
          "metadata": {
            "needs_background": "light"
          }
        }
      ]
    },
    {
      "cell_type": "markdown",
      "source": [
        "**bowler has best economic rate in ipl**"
      ],
      "metadata": {
        "id": "-CMw0z75PFqX"
      }
    },
    {
      "cell_type": "code",
      "source": [
        "maxx=balldf.groupby(['id','bowler','over']).count()\n",
        "max_over=maxx[maxx['count'] >= 6]\n",
        "resm=max_over.groupby('bowler').count().sort('count',ascending=False)\n",
        "#resm.show()\n",
        "\n",
        "ext=balldf[~balldf['extras_type'].isin('byes','leg_byes')]#filetring out runs conceded by byes or leg byes\n",
        "runs_concc=ext.groupby('bowler').sum('total_runs')\n",
        "\n",
        "eco=resm.join(runs_concc,on='bowler')\n",
        "\n",
        "bow_eco=eco.withColumn(\"economic rate\", col('sum(total_runs)')/col(\"count\")).sort('economic rate')\n",
        "economic_rate=bow_eco[bow_eco['count'] > 50]\n",
        "ecdf = economic_rate.select('bowler','economic rate')\n",
        "\n",
        "ecdf.show(10)\n",
        "\n",
        "ecopd = ecdf.toPandas()\n",
        "tempdata = ecopd.head(10)\n",
        "barplot(ycol=\"bowler\", xcol=\"economic rate\", ylabel=\"Bowler\", xlabel=\"economy\", title=\" Bowlers with best Economy\", temp=tempdata)"
      ],
      "metadata": {
        "colab": {
          "base_uri": "https://localhost:8080/",
          "height": 586
        },
        "id": "PMxejpIqPGih",
        "outputId": "c97765b6-535d-416c-ae6c-d06a7d62c05a"
      },
      "execution_count": 16,
      "outputs": [
        {
          "output_type": "stream",
          "name": "stdout",
          "text": [
            "+-----------------+------------------+\n",
            "|           bowler|     economic rate|\n",
            "+-----------------+------------------+\n",
            "|      Rashid Khan| 6.373983739837398|\n",
            "|       GD McGrath| 6.777777777777778|\n",
            "|         A Kumble| 6.849056603773585|\n",
            "|        SP Narine|6.9049676025917925|\n",
            "|   M Muralitharan| 6.909090909090909|\n",
            "|Washington Sundar| 6.954128440366972|\n",
            "|       DL Vettori|         6.9765625|\n",
            "| RE van der Merwe|               7.0|\n",
            "|         R Ashwin| 7.003738317757009|\n",
            "|   AD Mascarenhas|7.0588235294117645|\n",
            "+-----------------+------------------+\n",
            "only showing top 10 rows\n",
            "\n"
          ]
        },
        {
          "output_type": "display_data",
          "data": {
            "text/plain": [
              "<Figure size 432x288 with 1 Axes>"
            ],
            "image/png": "[encoded data removed]"
          },
          "metadata": {
            "needs_background": "light"
          }
        }
      ]
    },
    {
      "cell_type": "markdown",
      "source": [
        "**Which bowlers have best economic rate in powerplay ipl?(only those have bowled over 30 overs)**"
      ],
      "metadata": {
        "id": "UscAcgUwPOey"
      }
    },
    {
      "cell_type": "code",
      "source": [
        "poww = balldf[balldf['over'].between(0,5)]\n",
        "poww_play=poww.groupby(['id','bowler','over']).count()\n",
        "poww_overs=poww_play[poww_play['count'] >= 6]\n",
        "res_p=poww_overs.groupby('bowler').count()\n",
        "\n",
        "po=balldf[(~balldf['extras_type'].isin('byes','leg_byes')) & (balldf['over'].between(0,5))]#filetring out runs conceded by byes or leg byes and only death overs\n",
        "po_runs=po.groupby('bowler').sum('total_runs')\n",
        "\n",
        "eco_pow=res_p.join(po_runs,on='bowler')\n",
        "\n",
        "\n",
        "\n",
        "bow_eco_pow=eco_pow.withColumn(\"economic rate\", col('sum(total_runs)')/col(\"count\")).sort('economic rate')\n",
        "economic_rate_pow=bow_eco_pow[bow_eco_pow['count'] > 30]\n",
        "ecoDeath = economic_rate_pow.select('bowler','economic rate')\n",
        "ecoDeath.show(10)\n",
        "\n",
        "ecoDeathpd = ecoDeath.toPandas()\n",
        "tempdata = ecoDeathpd.head(10)\n",
        "barplot(ycol=\"bowler\", xcol=\"economic rate\", ylabel=\"Bowler\", xlabel=\"economy\", title=\" Bowlers with best Economy in Death Overs\", temp=tempdata)"
      ],
      "metadata": {
        "colab": {
          "base_uri": "https://localhost:8080/",
          "height": 586
        },
        "id": "aAJ7e6clPTOC",
        "outputId": "8d673d84-8a7b-4e14-9e43-9b39c9af67f7"
      },
      "execution_count": 17,
      "outputs": [
        {
          "output_type": "stream",
          "name": "stdout",
          "text": [
            "+-------------+------------------+\n",
            "|       bowler|     economic rate|\n",
            "+-------------+------------------+\n",
            "|    JC Archer|5.4035087719298245|\n",
            "|   GD McGrath| 5.891891891891892|\n",
            "|   SM Pollock| 6.147058823529412|\n",
            "|      B Kumar| 6.180672268907563|\n",
            "|    SP Narine| 6.347107438016529|\n",
            "|Iqbal Abdulla| 6.369565217391305|\n",
            "|   WPUJC Vaas| 6.393939393939394|\n",
            "|     DW Steyn| 6.417989417989418|\n",
            "|   SL Malinga| 6.454054054054054|\n",
            "|BW Hilfenhaus|               6.5|\n",
            "+-------------+------------------+\n",
            "only showing top 10 rows\n",
            "\n"
          ]
        },
        {
          "output_type": "display_data",
          "data": {
            "text/plain": [
              "<Figure size 432x288 with 1 Axes>"
            ],
            "image/png": "[encoded data removed]"
          },
          "metadata": {
            "needs_background": "light"
          }
        }
      ]
    },
    {
      "cell_type": "markdown",
      "source": [
        "**Which bowlers have taken most wickets in ipl?**"
      ],
      "metadata": {
        "id": "5M-ww2BwPZ0h"
      }
    },
    {
      "cell_type": "code",
      "source": [
        "highest_wicket_taker=balldf[~balldf['dismissal_kind'].isin (['obstructing the field','run out']) ]#filtering out obstructing the field and run out dismissal kind \n",
        "result_2=highest_wicket_taker.groupBy('bowler').sum('is_wicket').sort('sum(is_wicket)',ascending=False)\n",
        "result_2.show(10)\n",
        "\n",
        "\n",
        "wickpd = result_2.toPandas()\n",
        "tempdata = wickpd.head(10)\n",
        "barplot(ycol=\"bowler\", xcol=\"sum(is_wicket)\", ylabel=\"Bowler\", xlabel=\"Wickets\", title=\"Most Wicket in IPL\", temp=tempdata)\n"
      ],
      "metadata": {
        "colab": {
          "base_uri": "https://localhost:8080/",
          "height": 586
        },
        "id": "eD_ykuTBPb8t",
        "outputId": "b7d7c927-8c71-43e1-ce9d-c5dddf8f9310"
      },
      "execution_count": 18,
      "outputs": [
        {
          "output_type": "stream",
          "name": "stdout",
          "text": [
            "+---------------+--------------+\n",
            "|         bowler|sum(is_wicket)|\n",
            "+---------------+--------------+\n",
            "|     SL Malinga|           170|\n",
            "|       A Mishra|           160|\n",
            "|      PP Chawla|           156|\n",
            "|       DJ Bravo|           153|\n",
            "|Harbhajan Singh|           150|\n",
            "|       R Ashwin|           138|\n",
            "|        B Kumar|           136|\n",
            "|      SP Narine|           127|\n",
            "|      YS Chahal|           121|\n",
            "|       UT Yadav|           119|\n",
            "+---------------+--------------+\n",
            "only showing top 10 rows\n",
            "\n"
          ]
        },
        {
          "output_type": "display_data",
          "data": {
            "text/plain": [
              "<Figure size 432x288 with 1 Axes>"
            ],
            "image/png": "[encoded data removed]"
          },
          "metadata": {
            "needs_background": "light"
          }
        }
      ]
    },
    {
      "cell_type": "markdown",
      "source": [
        "# Match Analytics for Team"
      ],
      "metadata": {
        "id": "URV6a3NjgS5-"
      }
    },
    {
      "cell_type": "code",
      "source": [
        "batbowldf = balldf.filter((balldf.batsman=='V Kohli') & (balldf.bowler=='CRD Fernando'))"
      ],
      "metadata": {
        "id": "vxfGwhjygc1B"
      },
      "execution_count": 42,
      "outputs": []
    },
    {
      "cell_type": "code",
      "source": [
        "ballsf = batbowldf.count()    # Number of balls faced\n",
        "print(ballsf)\n",
        "\n",
        "totruns = batbowldf.agg({\"batsman_runs\":\"sum\"}).collect()[0][0]\n",
        "print(totruns)\n",
        "\n",
        "sr = (totruns / ballsf)*100\n",
        "\n",
        "print(sr)"
      ],
      "metadata": {
        "colab": {
          "base_uri": "https://localhost:8080/"
        },
        "id": "HeqBN7fGlHNK",
        "outputId": "04f7efa4-3c00-4178-c6eb-332cd4d72dec"
      },
      "execution_count": 43,
      "outputs": [
        {
          "output_type": "stream",
          "name": "stdout",
          "text": [
            "14\n",
            "23\n",
            "164.28571428571428\n"
          ]
        }
      ]
    },
    {
      "cell_type": "code",
      "source": [
        "# Number of time bowler dismissed batsman\n",
        "\n",
        "dismiss = batbowldf.filter(batbowldf.is_wicket != 0).count()\n",
        "print(dismiss)\n",
        "\n",
        "# Number of boundaries scored\n",
        "\n",
        "batbowldf.filter(batbowldf.batsman_runs.isin(4,6)).count()"
      ],
      "metadata": {
        "colab": {
          "base_uri": "https://localhost:8080/"
        },
        "id": "ci7L-n4elMHR",
        "outputId": "991270ab-765d-4a6a-f024-b4bcb84ab2dd"
      },
      "execution_count": 44,
      "outputs": [
        {
          "output_type": "stream",
          "name": "stdout",
          "text": [
            "0\n"
          ]
        },
        {
          "output_type": "execute_result",
          "data": {
            "text/plain": [
              "3"
            ]
          },
          "metadata": {},
          "execution_count": 44
        }
      ]
    },
    {
      "cell_type": "code",
      "source": [
        "# Specifiying the teams playing and venue\n",
        "\n",
        "team1 = 'Rajasthan Royals'\n",
        "team2 = 'Chennai Super Kings'\n",
        "venue = 'Sawai Mansingh Stadium'\n",
        "matchstatdf = matchdf.filter(((matchdf.team1 == team1) & (matchdf.team2 == team2)) | ((matchdf.team1 == team2) & (matchdf.team2 == team1)))\n",
        "#matchstatdf.show()\n",
        "# Number of matches played\n",
        "totplay = matchstatdf.count()\n",
        "print(totplay)\n"
      ],
      "metadata": {
        "colab": {
          "base_uri": "https://localhost:8080/"
        },
        "id": "y2hp_nsLlWjA",
        "outputId": "dca9e838-5496-4d55-f68f-9e7e3143c50d"
      },
      "execution_count": 47,
      "outputs": [
        {
          "output_type": "stream",
          "name": "stdout",
          "text": [
            "23\n"
          ]
        }
      ]
    },
    {
      "cell_type": "code",
      "source": [
        "# Percentage toss win\n",
        "\n",
        "team1toss = matchstatdf.filter(matchstatdf.toss_winner == team1).count()\n",
        "team1tossper = (team1toss / totplay) * 100\n",
        "#print(team1tossper)\n",
        "\n",
        "team2toss = matchstatdf.filter(matchstatdf.toss_winner == team2).count()\n",
        "team2tossper = (team2toss / totplay) * 100\n",
        "#print(team2tossper)\n",
        "\n",
        "# Plot\n",
        "\n",
        "slices=[team1toss,team2toss]\n",
        "labels=[team1,team2]\n",
        "colors = ['#66b3ff','#205bc0','#94b5ef']\n",
        "\n",
        "fig1, ax1 = plt.subplots()\n",
        "ax1.pie(slices, colors = colors, labels=labels, autopct='%1.1f%%', startangle=90)\n",
        "plt.title(\"Head to Head toss win percentage\",fontsize=15)\n",
        "centre_circle = plt.Circle((0,0),0.70,fc='white')\n",
        "fig = plt.gcf()\n",
        "fig.gca().add_artist(centre_circle)\n",
        "ax1.axis('equal')  \n",
        "plt.tight_layout()\n",
        "plt.show()\n"
      ],
      "metadata": {
        "colab": {
          "base_uri": "https://localhost:8080/",
          "height": 297
        },
        "id": "t5cfNrpblr-N",
        "outputId": "35fc4fa0-267f-41c2-9c46-115c3b98dee9"
      },
      "execution_count": 48,
      "outputs": [
        {
          "output_type": "display_data",
          "data": {
            "text/plain": [
              "<Figure size 432x288 with 1 Axes>"
            ],
            "image/png": "[encoded data removed]"
          },
          "metadata": {}
        }
      ]
    },
    {
      "cell_type": "code",
      "source": [
        "# Percentage match wins head to head\n",
        "\n",
        "team1win = matchstatdf.filter(matchstatdf.winner == team1).count()\n",
        "#print((team1win / totplay) * 100)\n",
        "\n",
        "team2win = matchstatdf.filter(matchstatdf.winner == team2).count()\n",
        "#print((team2win / totplay) * 100)\n",
        "\n",
        "# Plot\n",
        "\n",
        "slices=[team1win,team2win]\n",
        "labels=[team1,team2]\n",
        "colors = ['#66b3ff','#205bc0','#94b5ef']\n",
        "\n",
        "fig1, ax1 = plt.subplots()\n",
        "ax1.pie(slices, colors = colors, labels=labels, autopct='%1.1f%%', startangle=90)\n",
        "plt.title(\"Head to Head match win percentage\",fontsize=15)\n",
        "centre_circle = plt.Circle((0,0),0.70,fc='white')\n",
        "fig = plt.gcf()\n",
        "fig.gca().add_artist(centre_circle)\n",
        "ax1.axis('equal')  \n",
        "plt.tight_layout()\n",
        "plt.show()"
      ],
      "metadata": {
        "colab": {
          "base_uri": "https://localhost:8080/",
          "height": 297
        },
        "id": "t8-s8bBvlvbO",
        "outputId": "aa853559-c52c-42bf-b212-5adfa01ea612"
      },
      "execution_count": 49,
      "outputs": [
        {
          "output_type": "display_data",
          "data": {
            "text/plain": [
              "<Figure size 432x288 with 1 Axes>"
            ],
            "image/png": "[encoded data removed]"
          },
          "metadata": {}
        }
      ]
    },
    {
      "cell_type": "code",
      "source": [
        "# For given team1 / team2 / toss venue below are stats\n",
        "# If team1 wins toss, win percentage\n",
        "\n",
        "toss_win1 = matchstatdf.filter((matchstatdf.toss_winner == team1) & (matchstatdf.winner == team1)).count()\n",
        "\n",
        "# If team2 wins toss, win percentage\n",
        "\n",
        "toss_win2 = matchstatdf.filter((matchstatdf.toss_winner == team2) & (matchstatdf.winner == team2)).count()\n",
        "\n",
        "fig = plt.figure()\n",
        "ax = fig.add_axes([0,0,1,1])\n",
        "ticks = range(0,100,10)\n",
        "ax.set_yticks(ticks)\n",
        "teams = [team1,team2]\n",
        "result = [((toss_win1 / team1win) * 100),((toss_win2 / team2win) * 100)]\n",
        "ax.bar(teams,result)\n",
        "plt.ylabel('Percent matches won when toss won',fontsize=12)\n",
        "plt.xlabel('Teams',fontsize=12)\n",
        "plt.title('Head to Head match win percentage when toss is won',fontsize=15)\n",
        "plt.show()"
      ],
      "metadata": {
        "colab": {
          "base_uri": "https://localhost:8080/",
          "height": 371
        },
        "id": "TNdv6FKqlzA_",
        "outputId": "ba46f6a6-113e-42a5-f63e-10a6527974c8"
      },
      "execution_count": 50,
      "outputs": [
        {
          "output_type": "display_data",
          "data": {
            "text/plain": [
              "<Figure size 432x288 with 1 Axes>"
            ],
            "image/png": "[encoded data removed]"
          },
          "metadata": {
            "needs_background": "light"
          }
        }
      ]
    },
    {
      "cell_type": "code",
      "source": [
        "# Head to Head win stats at a venue\n",
        "\n",
        "venuedf = matchstatdf.filter(matchstatdf.venue == venue)\n",
        "#venuedf.show()\n",
        "\n",
        "tot_play = venuedf.count()\n",
        "\n",
        "team1_win = venuedf.filter(venuedf.winner == team1).count()\n",
        "\n",
        "team2_win = venuedf.filter(venuedf.winner == team2).count()\n",
        "\n",
        "# Plot\n",
        "\n",
        "slices=[team1_win,team2_win]\n",
        "labels=[team1,team2]\n",
        "colors = ['#66b3ff','#205bc0','#94b5ef']\n",
        "\n",
        "fig1, ax1 = plt.subplots()\n",
        "ax1.pie(slices, colors = colors, labels=labels, autopct='%1.1f%%', startangle=90)\n",
        "plt.title(\"Head to Head match win percentage at \" + venue ,fontsize=15)\n",
        "centre_circle = plt.Circle((0,0),0.70,fc='white')\n",
        "fig = plt.gcf()\n",
        "fig.gca().add_artist(centre_circle)\n",
        "ax1.axis('equal')  \n",
        "plt.tight_layout()\n",
        "plt.show()"
      ],
      "metadata": {
        "colab": {
          "base_uri": "https://localhost:8080/",
          "height": 297
        },
        "id": "gSPZn8cvl7XF",
        "outputId": "89da5f5d-97fa-40aa-f7b4-ebed096bec40"
      },
      "execution_count": 51,
      "outputs": [
        {
          "output_type": "display_data",
          "data": {
            "text/plain": [
              "<Figure size 432x288 with 1 Axes>"
            ],
            "image/png": "[encoded data removed]"
          },
          "metadata": {}
        }
      ]
    },
    {
      "cell_type": "markdown",
      "source": [
        "# Model for Batsman"
      ],
      "metadata": {
        "id": "hV9ou0ApL530"
      }
    },
    {
      "cell_type": "markdown",
      "metadata": {
        "id": "MKqDskwVOuL7"
      },
      "source": [
        "Create test and train dataset"
      ]
    },
    {
      "cell_type": "code",
      "execution_count": 19,
      "metadata": {
        "id": "CguqyRZn6C12"
      },
      "outputs": [],
      "source": [
        "sorted_balldf = balldf.sort(balldf.id)\n",
        "df = sorted_balldf.withColumn(\"rank\", percent_rank().over(Window.partitionBy().orderBy(\"id\")))\n",
        "train_balldf = df.where(\"rank <= .8\").drop(\"rank\")\n",
        "test_balldf = df.where(\"rank > .8\").drop(\"rank\")"
      ]
    },
    {
      "cell_type": "markdown",
      "metadata": {
        "id": "YWp2F8kKThyq"
      },
      "source": [
        "Train Dataset"
      ]
    },
    {
      "cell_type": "code",
      "execution_count": 20,
      "metadata": {
        "id": "YbM8zoIY00eI"
      },
      "outputs": [],
      "source": [
        "# Group all batsman together and count number of ball faced\n",
        "batgroup_train = train_balldf.groupby('batsman')\n",
        "batdf=batgroup_train.count().select('*').withColumnRenamed('count',\"ball_faced\")\n",
        "\n",
        "# count number of innings played by each batsman\n",
        "innings_df=train_balldf.groupby('batsman').agg(countDistinct('id')).withColumnRenamed('count(id)',\"Innings\")\n",
        "joined_df_train=batdf.join(innings_df,on='Batsman',how='left_outer')\n",
        "\n",
        "## filter run scores in \"4\" and \"6\" and create count for each batsman\n",
        "four=train_balldf.filter(train_balldf.batsman_runs=='4')\n",
        "four_df=four.groupBy('batsman').count().select('*').withColumnRenamed('count',\"Fours\")\n",
        "joined_df_train=joined_df_train.join(four_df,on='Batsman',how='left_outer')\n",
        "\n",
        "sixes=train_balldf.filter(train_balldf.batsman_runs=='6')\n",
        "sixes_df=sixes.groupBy('batsman').count().select('*').withColumnRenamed('count',\"Sixes\")\n",
        "joined_df_train=joined_df_train.join(sixes_df,on='Batsman',how='left_outer')\n"
      ]
    },
    {
      "cell_type": "code",
      "execution_count": 21,
      "metadata": {
        "colab": {
          "base_uri": "https://localhost:8080/"
        },
        "id": "rUpxbD4i2Bat",
        "outputId": "cdcd7c39-6181-491b-f59d-b215e3e0fac7"
      },
      "outputs": [
        {
          "output_type": "stream",
          "name": "stdout",
          "text": [
            "+---------------+----------+-------+-----+-----+------------------+----------+------------------+------------------+\n",
            "|        batsman|ball_faced|Innings|Fours|Sixes|       Batsmen Avg|Total_runs|       Strike rate|    Runs_per_match|\n",
            "+---------------+----------+-------+-----+-----+------------------+----------+------------------+------------------+\n",
            "| A Ashish Reddy|       196|     23|   16|   15|18.666666666666668|       280|142.85714285714286|12.173913043478262|\n",
            "|     A Chandila|         7|      2|    0|    0|               0.0|         4|57.142857142857146|               2.0|\n",
            "|       A Chopra|        75|      6|    7|    0| 8.833333333333334|        53| 70.66666666666667| 8.833333333333334|\n",
            "|    A Choudhary|        20|      3|    1|    1|              25.0|        25|             125.0| 8.333333333333334|\n",
            "|    A Dananjaya|         5|      1|    0|    0|               0.0|         4|              80.0|               4.0|\n",
            "|     A Flintoff|        57|      3|    5|    2|              31.0|        62| 108.7719298245614|20.666666666666668|\n",
            "|       A Kumble|        49|     15|    3|    0|11.666666666666666|        35| 71.42857142857143|2.3333333333333335|\n",
            "|       A Mishra|       382|     49|   27|    5|11.724137931034482|       340| 89.00523560209425| 6.938775510204081|\n",
            "|       A Mithun|        26|      6|    4|    1|               6.8|        34|130.76923076923077| 5.666666666666667|\n",
            "|       A Mukund|        23|      2|    1|    0|               9.5|        19|  82.6086956521739|               9.5|\n",
            "|        A Nehra|        63|     17|    3|    1| 5.857142857142857|        41| 65.07936507936508| 2.411764705882353|\n",
            "|        A Singh|        10|      5|    0|    0|               0.5|         2|              20.0|               0.4|\n",
            "|      A Symonds|       781|     36|   74|   41|36.074074074074076|       974|124.71190781049935|27.055555555555557|\n",
            "|       A Uniyal|         7|      2|    0|    0|               4.0|         4|57.142857142857146|               2.0|\n",
            "|        A Zampa|         8|      2|    1|    0|               2.5|         5|              62.5|               2.5|\n",
            "|    AA Bilakhia|        88|      7|    5|    0|              13.8|        69|  78.4090909090909| 9.857142857142858|\n",
            "|      AA Chavan|        11|      3|    2|    0|               6.0|        12| 109.0909090909091|               4.0|\n",
            "|AA Jhunjhunwala|       218|     15|   19|    5|16.692307692307693|       217| 99.54128440366972|14.466666666666667|\n",
            "|      AA Noffke|        12|      1|    1|    0|               9.0|         9|              75.0|               9.0|\n",
            "|     AB Agarkar|       160|     18|   13|    5|              17.9|       179|           111.875| 9.944444444444445|\n",
            "+---------------+----------+-------+-----+-----+------------------+----------+------------------+------------------+\n",
            "only showing top 20 rows\n",
            "\n"
          ]
        }
      ],
      "source": [
        "# calculate batsman average\n",
        "player_dismissed=train_balldf.groupby('player_dismissed').count()#Counting number of times a player is dismissed\n",
        "total_runs=train_balldf.groupBy('batsman').sum('batsman_runs')\n",
        "joined_data=player_dismissed.join(total_runs, player_dismissed.player_dismissed == total_runs.batsman, 'inner')\n",
        "avg_df=joined_data.withColumn(\"Batsmen Avg\", col(\"sum(batsman_runs)\")/col(\"count\")).sort('Batsmen Avg',ascending=False)#Dividing runs by number of times they have been dismissed\n",
        "avg_df=avg_df.select('batsman','Batsmen Avg')\n",
        "joined_df_train=joined_df_train.join(avg_df,on='batsman',how='left_outer')\n",
        "\n",
        "# calcualte batsman total runs and strike rate\n",
        "joined_df_train=joined_df_train.join(total_runs,on='batsman',how='left_outer').select('*').withColumnRenamed('sum(batsman_runs)',\"Total_runs\")\n",
        "\n",
        "# calculate strike rate\n",
        "joined_df_train=joined_df_train.withColumn(\"Strike rate\", col('Total_runs')*100/col(\"ball_faced\"))\n",
        "\n",
        "# Runs per match\n",
        "joined_df_train=joined_df_train.withColumn(\"Runs_per_match\", col('Total_runs')/col(\"Innings\"))\n",
        "\n",
        "joined_df_train=joined_df_train.na.fill(value=0)\n",
        "joined_df_train.show()"
      ]
    },
    {
      "cell_type": "markdown",
      "metadata": {
        "id": "2xswR9fQqA41"
      },
      "source": [
        "Test Data\n"
      ]
    },
    {
      "cell_type": "code",
      "execution_count": 22,
      "metadata": {
        "id": "9xCBRZRBUY4M"
      },
      "outputs": [],
      "source": [
        "# Group all batsman together and count number of ball faced\n",
        "batgroup_test = test_balldf.groupby('batsman')\n",
        "batdf=batgroup_test.count().select('*').withColumnRenamed('count',\"ball_faced\")\n",
        "\n",
        "# count number of innings played by each batsman\n",
        "innings_df=test_balldf.groupby('batsman').agg(countDistinct('id')).withColumnRenamed('count(id)',\"Innings\")\n",
        "joined_df_test=batdf.join(innings_df,on='Batsman',how='left_outer')\n",
        "\n",
        "## filter run scores in \"4\" and \"6\" and create count for each batsman\n",
        "four=test_balldf.filter(test_balldf.batsman_runs=='4')\n",
        "four_df=four.groupBy('batsman').count().select('*').withColumnRenamed('count',\"Fours\")\n",
        "joined_df_test=joined_df_test.join(four_df,on='Batsman',how='left_outer')\n",
        "\n",
        "sixes=test_balldf.filter(test_balldf.batsman_runs=='6')\n",
        "sixes_df=sixes.groupBy('batsman').count().select('*').withColumnRenamed('count',\"Sixes\")\n",
        "joined_df_test=joined_df_test.join(sixes_df,on='Batsman',how='left_outer')"
      ]
    },
    {
      "cell_type": "code",
      "execution_count": 23,
      "metadata": {
        "colab": {
          "base_uri": "https://localhost:8080/"
        },
        "id": "01ZWaJW0VFI4",
        "outputId": "ea87399f-6c51-4d96-fa0d-63b9f9aa9314"
      },
      "outputs": [
        {
          "output_type": "stream",
          "name": "stdout",
          "text": [
            "+---------------+----------+-------+-----+-----+------------------+----------+------------------+------------------+\n",
            "|        batsman|ball_faced|Innings|Fours|Sixes|       Batsmen Avg|Total_runs|       Strike rate|    Runs_per_match|\n",
            "+---------------+----------+-------+-----+-----+------------------+----------+------------------+------------------+\n",
            "|       A Mishra|        28|      5|    2|    0|              11.0|        22| 78.57142857142857|               4.4|\n",
            "|       A Nortje|         6|      3|    0|    0|               7.0|         7|116.66666666666667|2.3333333333333335|\n",
            "| AB de Villiers|       743|     33|   89|   64|             46.56|      1164| 156.6621803499327| 35.27272727272727|\n",
            "|       AD Hales|       119|      6|   13|    6|24.666666666666668|       148|124.36974789915966|24.666666666666668|\n",
            "|        AD Nath|        71|      6|    6|    2|11.666666666666666|        70| 98.59154929577464|11.666666666666666|\n",
            "|     AD Russell|       458|     31|   52|   73|              31.2|       780| 170.3056768558952|25.161290322580644|\n",
            "|       AJ Finch|       348|     18|   33|   15|21.555555555555557|       388|111.49425287356321|21.555555555555557|\n",
            "|      AJ Turner|        11|      4|    0|    0|               1.0|         3|27.272727272727273|              0.75|\n",
            "|         AJ Tye|        37|      8|    2|    2| 4.666666666666667|        28| 75.67567567567568|               3.5|\n",
            "|      AM Rahane|       615|     30|   77|   13|26.071428571428573|       730|118.69918699186992|24.333333333333332|\n",
            "|       AR Patel|       248|     28|   19|   15| 16.05263157894737|       305|122.98387096774194|10.892857142857142|\n",
            "|      AS Joseph|        13|      1|    2|    0|               0.0|        15|115.38461538461539|              15.0|\n",
            "|     AS Rajpoot|        28|      5|    1|    1|               5.0|        20| 71.42857142857143|               4.0|\n",
            "|       AT Carey|        29|      3|    0|    1|              16.0|        32|110.34482758620689|10.666666666666666|\n",
            "|      AT Rayudu|       916|     40|   89|   50| 36.16129032258065|      1121|122.37991266375546|            28.025|\n",
            "|    Abdul Samad|        66|      7|    8|    6|              22.2|       111| 168.1818181818182|15.857142857142858|\n",
            "|Abhishek Sharma|       104|     13|   10|    8|            17.875|       143|             137.5|              11.0|\n",
            "|  Anureet Singh|         4|      1|    0|    0|               0.0|         3|              75.0|               3.0|\n",
            "| Arshdeep Singh|         3|      1|    0|    0|               0.0|         0|               0.0|               0.0|\n",
            "|     Avesh Khan|         3|      1|    1|    0|               0.0|         4|133.33333333333334|               4.0|\n",
            "+---------------+----------+-------+-----+-----+------------------+----------+------------------+------------------+\n",
            "only showing top 20 rows\n",
            "\n"
          ]
        }
      ],
      "source": [
        "# calculate batsman average\n",
        "player_dismissed=test_balldf.groupby('player_dismissed').count()#Counting number of times a player is dismissed\n",
        "total_runs=test_balldf.groupBy('batsman').sum('batsman_runs')\n",
        "joined_data=player_dismissed.join(total_runs, player_dismissed.player_dismissed == total_runs.batsman, 'inner')\n",
        "avg_df=joined_data.withColumn(\"Batsmen Avg\", col(\"sum(batsman_runs)\")/col(\"count\")).sort('Batsmen Avg',ascending=False)#Dividing runs by number of times they have been dismissed\n",
        "avg_df=avg_df.select('batsman','Batsmen Avg')\n",
        "joined_df_test=joined_df_test.join(avg_df,on='batsman',how='left_outer')\n",
        "\n",
        "# calcualte batsman total runs and strike rate\n",
        "joined_df_test=joined_df_test.join(total_runs,on='batsman',how='left_outer').select('*').withColumnRenamed('sum(batsman_runs)',\"Total_runs\")\n",
        "\n",
        "# calculate strike rate\n",
        "joined_df_test=joined_df_test.withColumn(\"Strike rate\", col('Total_runs')*100/col(\"ball_faced\"))\n",
        "\n",
        "# Runs per match\n",
        "joined_df_test=joined_df_test.withColumn(\"Runs_per_match\", col('Total_runs')/col(\"Innings\"))\n",
        "\n",
        "joined_df_test=joined_df_test.na.fill(value=0)\n",
        "joined_df_test.show()"
      ]
    },
    {
      "cell_type": "markdown",
      "metadata": {
        "id": "NBmD6ONEzPUw"
      },
      "source": [
        "Model Fitting"
      ]
    },
    {
      "cell_type": "code",
      "execution_count": 24,
      "metadata": {
        "id": "e3WKvfthwGh5"
      },
      "outputs": [],
      "source": [
        "# filtering out test 'batsman' data for which in training 'batsman' is not present\n",
        "only_test = joined_df_test.join(joined_df_train,on='batsman', how='left_anti')\n",
        "# now dropping 'batsman' in test data which were not present in training set 'batsman'\n",
        "final_test = joined_df_test.join(only_test,on='batsman', how='left_anti')"
      ]
    },
    {
      "cell_type": "code",
      "execution_count": 25,
      "metadata": {
        "colab": {
          "base_uri": "https://localhost:8080/"
        },
        "id": "wdRbGP4gSEsg",
        "outputId": "6a601fdd-7d6a-4f22-baa8-b8e643df34bf"
      },
      "outputs": [
        {
          "output_type": "stream",
          "name": "stdout",
          "text": [
            "+--------------------+------------------+\n",
            "|            features|    Runs_per_match|\n",
            "+--------------------+------------------+\n",
            "|[196.0,23.0,16.0,...|12.173913043478262|\n",
            "|[7.0,2.0,0.0,0.0,...|               2.0|\n",
            "|[75.0,6.0,7.0,0.0...| 8.833333333333334|\n",
            "+--------------------+------------------+\n",
            "only showing top 3 rows\n",
            "\n",
            "Coefficients: [0.021448931088499722,-0.1322377944461436,0.06386132256414079,0.09670003664161657,0.5545663372585766,-0.019257538928299445,0.033634192552588225]\n",
            "Intercept: -0.4263547445855505\n",
            "RMSE: 3.290875\n",
            "r2: 0.859331\n"
          ]
        }
      ],
      "source": [
        "#Selecting features for training\n",
        "vecAssembler = VectorAssembler(inputCols = joined_df_train.columns[1:-1], outputCol = 'features')\n",
        "\n",
        "#Transforming features as vectors for training\n",
        "train_df = vecAssembler.transform(joined_df_train)\n",
        "train_df = train_df.select(['features', 'Runs_per_match'])\n",
        "#Visualizing training parameters\n",
        "train_df.show(3)\n",
        "\n",
        "#Training the model\n",
        "lr = LinearRegression(featuresCol = 'features', labelCol='Runs_per_match', maxIter=10)\n",
        "# lr = LinearRegression(featuresCol = 'features', labelCol='Runs_per_match', maxIter=10, regParam=0.3, elasticNetParam=0.8)\n",
        "lr_model = lr.fit(train_df)\n",
        "\n",
        "#Model parameters after training\n",
        "print(\"Coefficients: \" + str(lr_model.coefficients))\n",
        "print(\"Intercept: \" + str(lr_model.intercept))\n",
        "\n",
        "trainingSummary = lr_model.summary\n",
        "print(\"RMSE: %f\" % trainingSummary.rootMeanSquaredError)\n",
        "print(\"r2: %f\" % trainingSummary.r2)\n"
      ]
    },
    {
      "cell_type": "code",
      "execution_count": 26,
      "metadata": {
        "colab": {
          "base_uri": "https://localhost:8080/"
        },
        "id": "noxLjhaFUOec",
        "outputId": "7c747609-202b-4345-b358-2e464df62aff"
      },
      "outputs": [
        {
          "output_type": "stream",
          "name": "stdout",
          "text": [
            "+--------------+--------------------+------------------+\n",
            "|       batsman|            features|    Runs_per_match|\n",
            "+--------------+--------------------+------------------+\n",
            "|      A Mishra|[28.0,5.0,2.0,0.0...|               4.4|\n",
            "|AB de Villiers|[743.0,33.0,89.0,...| 35.27272727272727|\n",
            "|       AD Nath|[71.0,6.0,6.0,2.0...|11.666666666666666|\n",
            "+--------------+--------------------+------------------+\n",
            "only showing top 3 rows\n",
            "\n",
            "+--------------+------------------+------------------+--------------------+\n",
            "|       batsman|        prediction|    Runs_per_match|            features|\n",
            "+--------------+------------------+------------------+--------------------+\n",
            "|      A Mishra| 7.959999409915122|               4.4|[28.0,5.0,2.0,0.0...|\n",
            "|AB de Villiers|31.692853180535707| 35.27272727272727|[743.0,33.0,89.0,...|\n",
            "|       AD Nath| 9.317620634130325|11.666666666666666|[71.0,6.0,6.0,2.0...|\n",
            "|    AD Russell|23.687458800854273|25.161290322580644|[458.0,31.0,52.0,...|\n",
            "|      AJ Finch|16.447596725917073|21.555555555555557|[348.0,18.0,33.0,...|\n",
            "+--------------+------------------+------------------+--------------------+\n",
            "only showing top 5 rows\n",
            "\n",
            "R Squared (R2) on test data = 0.847479\n"
          ]
        }
      ],
      "source": [
        "#Selecting features for test\n",
        "vecAssembler = VectorAssembler(inputCols = final_test.columns[1:-1], outputCol = 'features')\n",
        "\n",
        "#Evaluation on test data\n",
        "test_df = vecAssembler.transform(final_test)\n",
        "test_df = test_df.select(['batsman','features', 'Runs_per_match'])\n",
        "#Visualization of test parameters\n",
        "test_df.show(3)\n",
        "\n",
        "#Prediction on test data and test results\n",
        "lr_predictions = lr_model.transform(test_df)\n",
        "lr_predictions.select(\"batsman\",\"prediction\",\"Runs_per_match\",\"features\").show(5)\n",
        "lr_evaluator = RegressionEvaluator(predictionCol=\"prediction\", \\\n",
        "                 labelCol=\"Runs_per_match\",metricName=\"r2\")\n",
        "print(\"R Squared (R2) on test data = %g\" % lr_evaluator.evaluate(lr_predictions))"
      ]
    },
    {
      "cell_type": "markdown",
      "source": [
        "# Demo for Batsman"
      ],
      "metadata": {
        "id": "drQfpqLXRTGr"
      }
    },
    {
      "cell_type": "markdown",
      "metadata": {
        "id": "5i6IqNzgc0hy"
      },
      "source": [
        "Batsman Run Prediction"
      ]
    },
    {
      "cell_type": "code",
      "source": [
        "TEAM_A = ['AT Rayudu','F du Plessis','SM Curran','MS Dhoni','M Vijay','SR Watson','DL Chahar', 'SM Curran', 'L Ngidi', 'PP Chawla', 'RA Jadeja']"
      ],
      "metadata": {
        "id": "XmTZsR3qHBGY"
      },
      "execution_count": 27,
      "outputs": []
    },
    {
      "cell_type": "code",
      "source": [
        "TEAM_B = ['RG Sharma','AM Rahane','SA Yadav','HH Pandya','KA Pollard','SK Raina','KM Jadhav','KH Pandya' ,'AM Rahane','RA Tripathi']"
      ],
      "metadata": {
        "id": "8YZc5tlaVpgy"
      },
      "execution_count": 28,
      "outputs": []
    },
    {
      "cell_type": "code",
      "source": [
        "result_df = lr_predictions.select('batsman','Runs_per_match','prediction').where(col(\"batsman\").isin(TEAM_A))\n",
        "result_df.show()"
      ],
      "metadata": {
        "colab": {
          "base_uri": "https://localhost:8080/"
        },
        "id": "rFH_lrkiQwvE",
        "outputId": "7807b687-2cb0-4f5a-8c7a-a98770e92892"
      },
      "execution_count": 29,
      "outputs": [
        {
          "output_type": "stream",
          "name": "stdout",
          "text": [
            "+------------+------------------+------------------+\n",
            "|     batsman|    Runs_per_match|        prediction|\n",
            "+------------+------------------+------------------+\n",
            "|   AT Rayudu|            28.025|27.032296628139367|\n",
            "|   DL Chahar|               8.0|10.210889220916163|\n",
            "|F du Plessis|32.483870967741936|27.368542977523397|\n",
            "|     M Vijay|              19.2|13.773983424243786|\n",
            "|    MS Dhoni| 27.34285714285714| 38.39240986685326|\n",
            "|   PP Chawla|             8.375| 8.800036468520913|\n",
            "|   RA Jadeja|15.958333333333334| 22.49445134824216|\n",
            "|   SR Watson|27.615384615384617|24.430699174047955|\n",
            "+------------+------------------+------------------+\n",
            "\n"
          ]
        }
      ]
    },
    {
      "cell_type": "code",
      "source": [
        "result_df = lr_predictions.select('batsman','Runs_per_match','prediction').where(col(\"batsman\").isin(TEAM_B))\n",
        "result_df.show()"
      ],
      "metadata": {
        "colab": {
          "base_uri": "https://localhost:8080/"
        },
        "id": "iEr8m7luAPc9",
        "outputId": "4ae3ba99-5a36-4e19-9faf-50c2b46ba801"
      },
      "execution_count": 30,
      "outputs": [
        {
          "output_type": "stream",
          "name": "stdout",
          "text": [
            "+-----------+------------------+------------------+\n",
            "|    batsman|    Runs_per_match|        prediction|\n",
            "+-----------+------------------+------------------+\n",
            "|  AM Rahane|24.333333333333332|19.364710898654707|\n",
            "|  HH Pandya|23.736842105263158|24.511370674406017|\n",
            "| KA Pollard|22.310344827586206|25.474407447971018|\n",
            "|  KH Pandya|12.882352941176471|12.735906262394414|\n",
            "|  KM Jadhav|13.176470588235293|13.601248254791708|\n",
            "|RA Tripathi|             21.24|  17.5693858847777|\n",
            "|  RG Sharma| 23.91891891891892|20.607379801497075|\n",
            "|   SA Yadav|              32.3| 28.07090203189713|\n",
            "|   SK Raina|26.344827586206897|22.676072682564786|\n",
            "+-----------+------------------+------------------+\n",
            "\n"
          ]
        }
      ]
    },
    {
      "cell_type": "markdown",
      "source": [
        "Plot for Prediction"
      ],
      "metadata": {
        "id": "aiJunqspRHN1"
      }
    },
    {
      "cell_type": "code",
      "source": [
        "batsman= result_df.toPandas()['batsman'].tolist()\n",
        "avg_score= result_df.toPandas()['Runs_per_match'].tolist()\n",
        "pred_score = result_df.toPandas()['prediction'].tolist()"
      ],
      "metadata": {
        "id": "gkFfiUv9Oolt"
      },
      "execution_count": 31,
      "outputs": []
    },
    {
      "cell_type": "code",
      "source": [
        "import pandas as pd\n",
        "df = pd.DataFrame({'pred_score': pred_score,\n",
        "                   'avg_score': avg_score}, index=batsman)\n",
        "ax = df.plot.bar(rot='vertical')"
      ],
      "metadata": {
        "colab": {
          "base_uri": "https://localhost:8080/",
          "height": 312
        },
        "id": "lt7ARqgrO0is",
        "outputId": "2770dc49-6b88-4350-c47f-6cbda734493a"
      },
      "execution_count": 32,
      "outputs": [
        {
          "output_type": "display_data",
          "data": {
            "text/plain": [
              "<Figure size 432x288 with 1 Axes>"
            ],
            "image/png": "[encoded data removed]"
          },
          "metadata": {
            "needs_background": "light"
          }
        }
      ]
    },
    {
      "cell_type": "markdown",
      "source": [
        "# Model for Bowler"
      ],
      "metadata": {
        "id": "5kVCUeOoRZPT"
      }
    },
    {
      "cell_type": "markdown",
      "source": [
        "Train Dataset"
      ],
      "metadata": {
        "id": "Z8LXpIunRbqS"
      }
    },
    {
      "cell_type": "code",
      "source": [
        "ballgroup = train_balldf.groupby('bowler')\n",
        "bowlerdf = ballgroup.count().select('*').withColumnRenamed('count',\"num_balls\")\n",
        "\n",
        "runsdf = ballgroup.sum('total_runs').withColumnRenamed('sum(total_runs)', 'runs_given')\n",
        "\n",
        "four=train_balldf.filter(train_balldf.batsman_runs=='4')\n",
        "four_df=four.groupBy('bowler').count().select('*').withColumnRenamed('count',\"Fours\")\n",
        "\n",
        "extrasdf = train_balldf.groupby(\"bowler\").sum(\"extra_runs\").withColumnRenamed(\"sum(extra_runs)\",\"Extras\")\n",
        "innings_df=ballgroup.agg(countDistinct('id')).withColumnRenamed('count(id)',\"Innings\")\n",
        "\n",
        "wickets = train_balldf.filter(train_balldf.is_wicket != 0)\n",
        "wicketsdf= wickets.groupBy('bowler').count().select('*').withColumnRenamed('count', \"Wickets\")\n",
        "\n",
        "sixes=train_balldf.filter(train_balldf.batsman_runs=='6')\n",
        "six_df=sixes.groupBy('bowler').count().select('*').withColumnRenamed('count',\"Sixes\")\n",
        "\n",
        "joindf_train = bowlerdf.join(runsdf, on='bowler', how='left_outer')\n",
        "joindf_train = joindf_train.withColumn(\"Economy\", (col(\"runs_given\")/col(\"num_balls\")) * 6)\n",
        "\n",
        "joindf_train = joindf_train.join(innings_df, on='bowler', how='left_outer')\n",
        "joindf_train = joindf_train.join(wicketsdf, on='bowler', how='left_outer')\n",
        "joindf_train = joindf_train.withColumn(\"Wickets_per_match\", (col(\"wickets\")/col(\"Innings\")))\n",
        "\n",
        "joindf_train = joindf_train.withColumn(\"Runsgiven_per_match\", (col(\"runs_given\")/col(\"Innings\")))\n",
        "\n",
        "joindf_train = joindf_train.withColumn(\"Overs\", (col(\"num_balls\")/6))\n",
        "joindf_train = joindf_train.filter(col(\"Overs\") >= 30)\n",
        "joindf_train = joindf_train.join(extrasdf, on='bowler', how = 'left_outer')\n",
        "joindf_train = joindf_train.join(four_df, on='bowler', how = 'left_outer')\n",
        "joindf_train = joindf_train.join(six_df, on='bowler', how = 'left_outer')\n",
        "\n",
        "joindf_train = joindf_train.na.fill(value=0)"
      ],
      "metadata": {
        "id": "T9ZrojL9STaT"
      },
      "execution_count": 33,
      "outputs": []
    },
    {
      "cell_type": "markdown",
      "source": [
        "Test data"
      ],
      "metadata": {
        "id": "dWzCq6MJXMtU"
      }
    },
    {
      "cell_type": "code",
      "source": [
        "tballgroup = test_balldf.groupby('bowler')\n",
        "tbowlerdf = tballgroup.count().select('*').withColumnRenamed('count',\"num_balls\")\n",
        "trunsdf = tballgroup.sum('total_runs').withColumnRenamed('sum(total_runs)', 'runs_given')\n",
        "\n",
        "joindf_test = tbowlerdf.join(trunsdf, on='bowler', how='left_outer')\n",
        "joindf_test = joindf_test.withColumn(\"Economy\", (col(\"runs_given\")/col(\"num_balls\")) * 6)\n",
        "\n",
        "tinnings_df = tballgroup.agg(countDistinct('id')).withColumnRenamed('count(id)',\"Innings\")\n",
        "joindf_test = joindf_test.join(tinnings_df, on='bowler', how='left_outer')\n",
        "\n",
        "twickets = test_balldf.filter(test_balldf.is_wicket != 0)\n",
        "twicketsdf= twickets.groupBy('bowler').count().select('*').withColumnRenamed('count', \"Wickets\")\n",
        "twicketsdf.na.fill(value=0)\n",
        "\n",
        "joindf_test = joindf_test.join(twicketsdf, on='bowler', how='left_outer')\n",
        "joindf_test = joindf_test.withColumn(\"Wickets_per_match\", (col(\"wickets\")/col(\"Innings\")))\n",
        "\n",
        "joindf_test = joindf_test.withColumn(\"Runsgiven_per_match\", (col(\"runs_given\")/col(\"Innings\")))\n",
        "\n",
        "textrasdf = test_balldf.groupby(\"bowler\").sum(\"extra_runs\").withColumnRenamed(\"sum(extra_runs)\",\"Extras\")\n",
        "tsixes = test_balldf.filter(test_balldf.batsman_runs=='6')\n",
        "tsix_df = tsixes.groupBy('bowler').count().select('*').withColumnRenamed('count',\"Sixes\")\n",
        "tfour = test_balldf.filter(test_balldf.batsman_runs=='4')\n",
        "tfour_df = tfour.groupBy('bowler').count().select('*').withColumnRenamed('count',\"Fours\")\n",
        "\n",
        "joindf_test = joindf_test.withColumn(\"Overs\", (col(\"num_balls\")/6))\n",
        "joindf_test = joindf_test.filter(col(\"Overs\") >= 30)\n",
        "joindf_test = joindf_test.join(textrasdf, on='bowler', how = 'left_outer')\n",
        "joindf_test = joindf_test.join(tfour_df, on='bowler', how = 'left_outer')\n",
        "joindf_test = joindf_test.join(tsix_df, on='bowler', how = 'left_outer')\n",
        "\n",
        "joindf_test = joindf_test.na.fill(value=0)\n"
      ],
      "metadata": {
        "id": "2h3VEx9RXD8M"
      },
      "execution_count": 34,
      "outputs": []
    },
    {
      "cell_type": "markdown",
      "source": [
        "Model Fitting"
      ],
      "metadata": {
        "id": "Y6E-uq8YXWwe"
      }
    },
    {
      "cell_type": "code",
      "source": [
        "# filtering out test 'bowler' data for which in training 'batsman' is not present\n",
        "only_test = joindf_test.join(joindf_train, on='bowler', how='left_anti')\n",
        "\n",
        "# now dropping 'bowler' in test data which were not present in training set 'bowler'\n",
        "test_final = joindf_test.join(only_test,on='bowler', how='left_anti')"
      ],
      "metadata": {
        "id": "m3qV9r0VXypb"
      },
      "execution_count": 35,
      "outputs": []
    },
    {
      "cell_type": "code",
      "source": [
        "x = joindf_train.drop('bowler')\n",
        "x = x.drop('Economy')\n",
        "\n",
        "vecAssembler = VectorAssembler(inputCols = x.columns, outputCol = 'features')\n",
        "\n",
        "train_df = vecAssembler.transform(joindf_train)\n",
        "train_df = train_df.select(['features', 'Economy'])\n",
        "train_df.show(3)\n",
        "\n",
        "lr = LinearRegression(featuresCol = 'features', labelCol='Economy', maxIter=30, regParam=0.0, elasticNetParam=0.0)\n",
        "\n",
        "lr_model = lr.fit(train_df)\n",
        "print(\"Coefficients: \" + str(lr_model.coefficients))\n",
        "print(\"Intercept: \" + str(lr_model.intercept))\n",
        "\n",
        "trainingSummary = lr_model.summary\n",
        "print(\"RMSE: %f\" % trainingSummary.rootMeanSquaredError)\n",
        "print(\"r2: %f\" % trainingSummary.r2)\n"
      ],
      "metadata": {
        "colab": {
          "base_uri": "https://localhost:8080/"
        },
        "id": "CN3u1QBRYBcJ",
        "outputId": "4baa528b-b456-4624-b6af-bc9587238f1b"
      },
      "execution_count": 36,
      "outputs": [
        {
          "output_type": "stream",
          "name": "stdout",
          "text": [
            "+--------------------+------------------+\n",
            "|            features|           Economy|\n",
            "+--------------------+------------------+\n",
            "|[2276.0,2860.0,99...| 7.539543057996484|\n",
            "|[1799.0,2348.0,89...|7.8310172317954425|\n",
            "|[2637.0,3342.0,11...| 7.604095563139931|\n",
            "+--------------------+------------------+\n",
            "only showing top 3 rows\n",
            "\n",
            "Coefficients: [-0.003040719308171543,0.001027394959831889,0.040572675176004803,0.026700113960320335,-1.2388188072440682,0.10547232382819742,-0.018244315849042615,0.0033663261187326255,0.004643395416414131,0.01603426543537605]\n",
            "Intercept: 6.340475949561679\n",
            "RMSE: 0.420325\n",
            "r2: 0.634378\n"
          ]
        }
      ]
    },
    {
      "cell_type": "code",
      "source": [
        "x = test_final.drop('bowler')\n",
        "\n",
        "#x = x.drop('Economy')\n",
        "x = x.drop('Economy')\n",
        "\n",
        "vecA = VectorAssembler(inputCols = x.columns, outputCol = 'features')\n",
        "\n",
        "testdf = vecA.transform(test_final)\n",
        "#test_df = test_df.select(['features', 'Economy'])\n",
        "testdf = testdf.select(['bowler','features', 'Economy'])\n",
        "testdf.show(3)\n",
        "\n",
        "lr_p = lr_model.transform(testdf)\n",
        "lr_p.select(\"bowler\",\"prediction\",\"Economy\",\"features\").show(3)\n",
        "\n",
        "lr_eval = RegressionEvaluator(predictionCol=\"prediction\", \\\n",
        "                 labelCol=\"Economy\",metricName=\"r2\")\n",
        "print(\"R Squared (R2) on test data = %g\" % lr_eval.evaluate(lr_p))"
      ],
      "metadata": {
        "colab": {
          "base_uri": "https://localhost:8080/"
        },
        "id": "IC1Rsuw1Ygsw",
        "outputId": "1dc8a1fa-5f1b-40a0-85e7-283aa124f4b3"
      },
      "execution_count": 37,
      "outputs": [
        {
          "output_type": "stream",
          "name": "stdout",
          "text": [
            "+----------+--------------------+-----------------+\n",
            "|    bowler|            features|          Economy|\n",
            "+----------+--------------------+-----------------+\n",
            "|  A Mishra|[506.0,562.0,23.0...|6.664031620553359|\n",
            "|AD Russell|[455.0,686.0,29.0...|9.046153846153846|\n",
            "|    AJ Tye|[391.0,578.0,16.0...|8.869565217391305|\n",
            "+----------+--------------------+-----------------+\n",
            "only showing top 3 rows\n",
            "\n",
            "+----------+-----------------+-----------------+--------------------+\n",
            "|    bowler|       prediction|          Economy|            features|\n",
            "+----------+-----------------+-----------------+--------------------+\n",
            "|  A Mishra|7.105396298412369|6.664031620553359|[506.0,562.0,23.0...|\n",
            "|AD Russell|8.346375247191176|9.046153846153846|[455.0,686.0,29.0...|\n",
            "|    AJ Tye|8.464890742686555|8.869565217391305|[391.0,578.0,16.0...|\n",
            "+----------+-----------------+-----------------+--------------------+\n",
            "only showing top 3 rows\n",
            "\n",
            "R Squared (R2) on test data = 0.800677\n"
          ]
        }
      ]
    },
    {
      "cell_type": "markdown",
      "source": [
        "#Demo for bowler"
      ],
      "metadata": {
        "id": "D9upavUka4RH"
      }
    },
    {
      "cell_type": "code",
      "source": [
        "bowler_list = ['RA Jadeja', 'JJ Bumrah', 'S Gopal', 'KH Pandya', 'R Ashwin' ,'B Kumar','DJ Bravo','SN Thakur','AR Patel','Rashid Khan']"
      ],
      "metadata": {
        "id": "Juuqwdjda68-"
      },
      "execution_count": 38,
      "outputs": []
    },
    {
      "cell_type": "code",
      "source": [
        "result_df_bowler = lr_p.select(\"bowler\",\"prediction\",\"Economy\").where(col(\"bowler\").isin(bowler_list))\n",
        "result_df_bowler.show()"
      ],
      "metadata": {
        "colab": {
          "base_uri": "https://localhost:8080/"
        },
        "id": "oco6tEYda9dv",
        "outputId": "98707496-2851-4cc9-fa60-5d03977d0114"
      },
      "execution_count": 39,
      "outputs": [
        {
          "output_type": "stream",
          "name": "stdout",
          "text": [
            "+-----------+-----------------+-----------------+\n",
            "|     bowler|       prediction|          Economy|\n",
            "+-----------+-----------------+-----------------+\n",
            "|   AR Patel|7.340247760240582|7.034199726402188|\n",
            "|    B Kumar|8.067162814622675|7.619909502262443|\n",
            "|   DJ Bravo|8.243520247539411|8.460365853658537|\n",
            "|  JJ Bumrah|6.943802259701503|6.718781725888325|\n",
            "|  KH Pandya|7.486086363624038|7.256345177664976|\n",
            "|   R Ashwin|7.461578600900181|7.371428571428572|\n",
            "|  RA Jadeja|7.489310791974123|7.304010349288486|\n",
            "|Rashid Khan|6.285350241167515|6.073239436619717|\n",
            "|    S Gopal|8.049483214703384|8.022955523672884|\n",
            "|  SN Thakur|8.601525486783608| 8.67515923566879|\n",
            "+-----------+-----------------+-----------------+\n",
            "\n"
          ]
        }
      ]
    },
    {
      "cell_type": "code",
      "source": [
        "bowler= result_df_bowler.toPandas()['bowler'].tolist()\n",
        "economy= result_df_bowler.toPandas()['Economy'].tolist()\n",
        "pred_economy = result_df_bowler.toPandas()['prediction'].tolist()"
      ],
      "metadata": {
        "id": "b1dr2XjZbZGy"
      },
      "execution_count": 40,
      "outputs": []
    },
    {
      "cell_type": "code",
      "source": [
        "df = pd.DataFrame({'pred_economy': pred_economy,\n",
        "                   'economy': economy}, index=bowler)\n",
        "ax = df.plot.bar(rot='vertical')"
      ],
      "metadata": {
        "colab": {
          "base_uri": "https://localhost:8080/",
          "height": 317
        },
        "id": "dJV9RA-tbhVr",
        "outputId": "1642fee2-0000-4da1-bdfd-64725b56aeae"
      },
      "execution_count": 41,
      "outputs": [
        {
          "output_type": "display_data",
          "data": {
            "text/plain": [
              "<Figure size 432x288 with 1 Axes>"
            ],
            "image/png": "[encoded data removed]"
          },
          "metadata": {
            "needs_background": "light"
          }
        }
      ]
    }
  ],
  "metadata": {
    "colab": {
      "collapsed_sections": [
        "638uacpGHpOq",
        "-HJa74muKTfu"
      ],
      "provenance": []
    },
    "kernelspec": {
      "display_name": "Python 3",
      "name": "python3"
    },
    "language_info": {
      "name": "python"
    }
  },
  "nbformat": 4,
  "nbformat_minor": 0
}
